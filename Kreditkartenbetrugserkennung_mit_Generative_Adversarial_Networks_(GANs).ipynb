{
  "nbformat": 4,
  "nbformat_minor": 0,
  "metadata": {
    "colab": {
      "provenance": []
    },
    "kernelspec": {
      "name": "python3",
      "display_name": "Python 3"
    },
    "language_info": {
      "name": "python"
    }
  },
  "cells": [
    {
      "cell_type": "markdown",
      "source": [
        "# Kreditkartenbetrugserkennung mit Generative Adversarial Networks (GANs)\n",
        "\n",
        "Dieses Projekt zielt darauf ab, Kreditkartenbetrug mithilfe von Generative Adversarial Networks (GANs) zu erkennen. Ein GAN besteht aus zwei neuronalen Netzen: einem Generator, der versucht, gefälschte (synthetische) Transaktionsdaten zu erstellen, und einem Diskriminator, der zwischen echten und gefälschten Transaktionen unterscheidet. Nach dem Training verwenden wir dieses GAN, um Anomalien in den Transaktionen zu identifizieren, was auf potenziellen Kreditkartenbetrug hinweisen könnte.\n",
        "\n",
        "Ziel des Projekts:\n",
        "- Erstellen eines GANs zur Generierung von Transaktionsdaten.\n",
        "- Erkennung von Anomalien in Transaktionsdaten durch den Vergleich von echten und generierten Daten.\n"
      ],
      "metadata": {
        "id": "GH012ChS6OXJ"
      }
    },
    {
      "cell_type": "code",
      "execution_count": 51,
      "metadata": {
        "id": "FXc4wiBSTfoZ"
      },
      "outputs": [],
      "source": [
        "import sqlite3\n",
        "import pandas as pd\n",
        "from sklearn.preprocessing import StandardScaler\n",
        "import torch\n",
        "import torch.nn as nn\n",
        "import numpy as np\n",
        "import random\n",
        "import matplotlib.pyplot as plt"
      ]
    },
    {
      "cell_type": "markdown",
      "source": [
        "## 1. Laden des Datensatzes und Speichern in einer SQLite-Datenbank\n",
        "\n",
        "In diesem Schritt wird der Datensatz geladen und zur weiteren Verarbeitung in eine SQLite-Datenbank gespeichert. Dies erleichtert das Abrufen spezifischer Daten (Transaktionen und Labels) für die spätere Verarbeitung und Modellierung.\n"
      ],
      "metadata": {
        "id": "vkeKFyyT6Yh9"
      }
    },
    {
      "cell_type": "code",
      "source": [
        "# Load the CSV file containing the credit card transaction data\n",
        "file_path = '/content/drive/MyDrive/projects/creditcard.csv' # file_path = 'creditcard.csv' - Modify the path if necessary\n",
        "df = pd.read_csv(file_path)\n",
        "\n",
        "print(df.head())"
      ],
      "metadata": {
        "colab": {
          "base_uri": "https://localhost:8080/"
        },
        "id": "Id2cWIL1UrCl",
        "outputId": "ff38e7db-87f6-45fd-c629-06272fed4a3d"
      },
      "execution_count": 27,
      "outputs": [
        {
          "output_type": "stream",
          "name": "stdout",
          "text": [
            "   Time        V1        V2        V3        V4        V5        V6        V7  \\\n",
            "0   0.0 -1.359807 -0.072781  2.536347  1.378155 -0.338321  0.462388  0.239599   \n",
            "1   0.0  1.191857  0.266151  0.166480  0.448154  0.060018 -0.082361 -0.078803   \n",
            "2   1.0 -1.358354 -1.340163  1.773209  0.379780 -0.503198  1.800499  0.791461   \n",
            "3   1.0 -0.966272 -0.185226  1.792993 -0.863291 -0.010309  1.247203  0.237609   \n",
            "4   2.0 -1.158233  0.877737  1.548718  0.403034 -0.407193  0.095921  0.592941   \n",
            "\n",
            "         V8        V9  ...       V21       V22       V23       V24       V25  \\\n",
            "0  0.098698  0.363787  ... -0.018307  0.277838 -0.110474  0.066928  0.128539   \n",
            "1  0.085102 -0.255425  ... -0.225775 -0.638672  0.101288 -0.339846  0.167170   \n",
            "2  0.247676 -1.514654  ...  0.247998  0.771679  0.909412 -0.689281 -0.327642   \n",
            "3  0.377436 -1.387024  ... -0.108300  0.005274 -0.190321 -1.175575  0.647376   \n",
            "4 -0.270533  0.817739  ... -0.009431  0.798278 -0.137458  0.141267 -0.206010   \n",
            "\n",
            "        V26       V27       V28  Amount  Class  \n",
            "0 -0.189115  0.133558 -0.021053  149.62      0  \n",
            "1  0.125895 -0.008983  0.014724    2.69      0  \n",
            "2 -0.139097 -0.055353 -0.059752  378.66      0  \n",
            "3 -0.221929  0.062723  0.061458  123.50      0  \n",
            "4  0.502292  0.219422  0.215153   69.99      0  \n",
            "\n",
            "[5 rows x 31 columns]\n"
          ]
        }
      ]
    },
    {
      "cell_type": "code",
      "source": [
        "# Establish a connection to the SQLite database (will be created if it does not exist)\n",
        "conn = sqlite3.connect('transactions.db')\n"
      ],
      "metadata": {
        "id": "mz9z1E_CWDAX"
      },
      "execution_count": 28,
      "outputs": []
    },
    {
      "cell_type": "code",
      "source": [
        "cursor = conn.cursor()\n",
        "\n",
        "# Write the DataFrame into the SQL table\n",
        "df.to_sql('transactions', conn, if_exists='replace', index=False)\n",
        "\n",
        "# Check if the data is stored correctly by fetching a sample\n",
        "cursor.execute(\"SELECT * FROM transactions LIMIT 5\")\n",
        "rows = cursor.fetchall()\n",
        "\n",
        "# Print the first 5 rows of the database\n",
        "for row in rows:\n",
        "    print(row)"
      ],
      "metadata": {
        "colab": {
          "base_uri": "https://localhost:8080/"
        },
        "id": "RSKZtZ4OWGpl",
        "outputId": "02b2c135-0692-468f-c346-e1640c735ad1"
      },
      "execution_count": 29,
      "outputs": [
        {
          "output_type": "stream",
          "name": "stdout",
          "text": [
            "(0.0, -1.3598071336738, -0.0727811733098497, 2.53634673796914, 1.37815522427443, -0.338320769942518, 0.462387777762292, 0.239598554061257, 0.0986979012610507, 0.363786969611213, 0.0907941719789316, -0.551599533260813, -0.617800855762348, -0.991389847235408, -0.311169353699879, 1.46817697209427, -0.470400525259478, 0.207971241929242, 0.0257905801985591, 0.403992960255733, 0.251412098239705, -0.018306777944153, 0.277837575558899, -0.110473910188767, 0.0669280749146731, 0.128539358273528, -0.189114843888824, 0.133558376740387, -0.0210530534538215, 149.62, 0)\n",
            "(0.0, 1.19185711131486, 0.26615071205963, 0.16648011335321, 0.448154078460911, 0.0600176492822243, -0.0823608088155687, -0.0788029833323113, 0.0851016549148104, -0.255425128109186, -0.166974414004614, 1.61272666105479, 1.06523531137287, 0.48909501589608, -0.143772296441519, 0.635558093258208, 0.463917041022171, -0.114804663102346, -0.183361270123994, -0.145783041325259, -0.0690831352230203, -0.225775248033138, -0.638671952771851, 0.101288021253234, -0.339846475529127, 0.167170404418143, 0.125894532368176, -0.0089830991432281, 0.0147241691924927, 2.69, 0)\n",
            "(1.0, -1.35835406159823, -1.34016307473609, 1.77320934263119, 0.379779593034328, -0.503198133318193, 1.80049938079263, 0.791460956450422, 0.247675786588991, -1.51465432260583, 0.207642865216696, 0.624501459424895, 0.066083685268831, 0.717292731410831, -0.165945922763554, 2.34586494901581, -2.89008319444231, 1.10996937869599, -0.121359313195888, -2.26185709530414, 0.524979725224404, 0.247998153469754, 0.771679401917229, 0.909412262347719, -0.689280956490685, -0.327641833735251, -0.139096571514147, -0.0553527940384261, -0.0597518405929204, 378.66, 0)\n",
            "(1.0, -0.966271711572087, -0.185226008082898, 1.79299333957872, -0.863291275036453, -0.0103088796030823, 1.24720316752486, 0.23760893977178, 0.377435874652262, -1.38702406270197, -0.0549519224713749, -0.226487263835401, 0.178228225877303, 0.507756869957169, -0.28792374549456, -0.631418117709045, -1.0596472454325, -0.684092786345479, 1.96577500349538, -1.2326219700892, -0.208037781160366, -0.108300452035545, 0.0052735967825345, -0.190320518742841, -1.17557533186321, 0.647376034602038, -0.221928844458407, 0.0627228487293033, 0.0614576285006353, 123.5, 0)\n",
            "(2.0, -1.15823309349523, 0.877736754848451, 1.548717846511, 0.403033933955121, -0.407193377311653, 0.0959214624684256, 0.592940745385545, -0.270532677192282, 0.817739308235294, 0.753074431976354, -0.822842877946363, 0.53819555014995, 1.3458515932154, -1.11966983471731, 0.175121130008994, -0.451449182813529, -0.237033239362776, -0.0381947870352842, 0.803486924960175, 0.408542360392758, -0.0094306971323291, 0.79827849458971, -0.137458079619063, 0.141266983824769, -0.206009587619756, 0.502292224181569, 0.219422229513348, 0.215153147499206, 69.99, 0)\n"
          ]
        }
      ]
    },
    {
      "cell_type": "markdown",
      "source": [
        "## 2. Abrufen der Transaktionsdaten und Labels\n",
        "\n",
        "Hier werden die Transaktionsdaten ohne das \"Class\"-Label sowie die \"Class\"-Labels (Betrug/Nicht-Betrug) aus der Datenbank abgefragt. Diese Daten werden für das Training und die Anomalieerkennung verwendet."
      ],
      "metadata": {
        "id": "wIrh7XUq6gPV"
      }
    },
    {
      "cell_type": "code",
      "source": [
        "# Retrieve transaction data without the \"Class\" label (fraud/no-fraud)\n",
        "query = \"SELECT Time, Amount, V1, V2, V3, V4, V5, V6, V7, V8, V9, V10, V11, V12, V13, V14, V15, V16, V17, V18, V19, V20, V21, V22, V23, V24, V25, V26, V27, V28 FROM transactions\"\n",
        "df_transactions = pd.read_sql_query(query, conn)\n",
        "\n",
        "# Retrieve the \"Class\" labels (fraud/not-fraud)\n",
        "df_labels = pd.read_sql_query(\"SELECT Class FROM transactions\", conn)\n",
        "\n",
        "\n",
        "print(df_transactions.head())\n",
        "print(df_labels.head())"
      ],
      "metadata": {
        "colab": {
          "base_uri": "https://localhost:8080/"
        },
        "id": "Gc3QCqFnWpFi",
        "outputId": "c6d0ae7f-5cb6-4871-854c-3c99100a4b6b"
      },
      "execution_count": 30,
      "outputs": [
        {
          "output_type": "stream",
          "name": "stdout",
          "text": [
            "   Time  Amount        V1        V2        V3        V4        V5        V6  \\\n",
            "0   0.0  149.62 -1.359807 -0.072781  2.536347  1.378155 -0.338321  0.462388   \n",
            "1   0.0    2.69  1.191857  0.266151  0.166480  0.448154  0.060018 -0.082361   \n",
            "2   1.0  378.66 -1.358354 -1.340163  1.773209  0.379780 -0.503198  1.800499   \n",
            "3   1.0  123.50 -0.966272 -0.185226  1.792993 -0.863291 -0.010309  1.247203   \n",
            "4   2.0   69.99 -1.158233  0.877737  1.548718  0.403034 -0.407193  0.095921   \n",
            "\n",
            "         V7        V8  ...       V19       V20       V21       V22       V23  \\\n",
            "0  0.239599  0.098698  ...  0.403993  0.251412 -0.018307  0.277838 -0.110474   \n",
            "1 -0.078803  0.085102  ... -0.145783 -0.069083 -0.225775 -0.638672  0.101288   \n",
            "2  0.791461  0.247676  ... -2.261857  0.524980  0.247998  0.771679  0.909412   \n",
            "3  0.237609  0.377436  ... -1.232622 -0.208038 -0.108300  0.005274 -0.190321   \n",
            "4  0.592941 -0.270533  ...  0.803487  0.408542 -0.009431  0.798278 -0.137458   \n",
            "\n",
            "        V24       V25       V26       V27       V28  \n",
            "0  0.066928  0.128539 -0.189115  0.133558 -0.021053  \n",
            "1 -0.339846  0.167170  0.125895 -0.008983  0.014724  \n",
            "2 -0.689281 -0.327642 -0.139097 -0.055353 -0.059752  \n",
            "3 -1.175575  0.647376 -0.221929  0.062723  0.061458  \n",
            "4  0.141267 -0.206010  0.502292  0.219422  0.215153  \n",
            "\n",
            "[5 rows x 30 columns]\n",
            "   Class\n",
            "0      0\n",
            "1      0\n",
            "2      0\n",
            "3      0\n",
            "4      0\n"
          ]
        }
      ]
    },
    {
      "cell_type": "markdown",
      "source": [
        "## 3. Untersuchung der Verteilung von Betrugs- und Nicht-Betrugsfällen\n",
        "\n",
        "Da Betrugsfälle selten sind, wird die Verteilung der \"Class\"-Labels untersucht, um ein Verständnis dafür zu gewinnen, wie stark die Daten unausgeglichen sind.\n"
      ],
      "metadata": {
        "id": "JhFGQYTz6vg6"
      }
    },
    {
      "cell_type": "code",
      "source": [
        "# Check the distribution of fraud/no-fraud labels\n",
        "label_counts = df['Class'].value_counts()\n",
        "print(label_counts)"
      ],
      "metadata": {
        "colab": {
          "base_uri": "https://localhost:8080/"
        },
        "id": "IVs7vElBXWsy",
        "outputId": "a4a31ef9-c9a5-44c7-98c3-aec3feebf5b7"
      },
      "execution_count": 31,
      "outputs": [
        {
          "output_type": "stream",
          "name": "stdout",
          "text": [
            "Class\n",
            "0    284315\n",
            "1       492\n",
            "Name: count, dtype: int64\n"
          ]
        }
      ]
    },
    {
      "cell_type": "markdown",
      "source": [
        "## 4. Normalisierung der Transaktionsdaten\n",
        "\n",
        "Um sicherzustellen, dass alle Merkmale auf einer ähnlichen Skala liegen, wird die StandardScaler-Methode verwendet. Diese Normalisierung verbessert die Leistung des GANs.\n"
      ],
      "metadata": {
        "id": "UENcthC26019"
      }
    },
    {
      "cell_type": "code",
      "source": [
        "# Normalize the transaction data to bring the features to a similar scale\n",
        "\n",
        "scaler = StandardScaler()\n",
        "normalized_transactions = scaler.fit_transform(df_transactions)\n",
        "\n",
        "print(normalized_transactions[:5])"
      ],
      "metadata": {
        "colab": {
          "base_uri": "https://localhost:8080/"
        },
        "id": "i_5QgADJXgLG",
        "outputId": "acea2997-c544-49db-cff7-f1dbc8e0b279"
      },
      "execution_count": 32,
      "outputs": [
        {
          "output_type": "stream",
          "name": "stdout",
          "text": [
            "[[-1.99658302  0.24496426 -0.69424232 -0.04407492  1.6727735   0.97336551\n",
            "  -0.24511658  0.34706795  0.19367894  0.08263728  0.33112778  0.08338555\n",
            "  -0.54040704 -0.61829572 -0.99609892 -0.32461019  1.60401384 -0.53683287\n",
            "   0.24486345  0.03076993  0.49628203  0.32611802 -0.02492336  0.38285444\n",
            "  -0.17691133  0.11050692  0.24658544 -0.39217043  0.33089162 -0.06378115]\n",
            " [-1.99658302 -0.34247454  0.60849633  0.16117592  0.1097971   0.31652293\n",
            "   0.04348335 -0.06181997 -0.06370021  0.07125348 -0.23249419 -0.15334963\n",
            "   1.58000285  1.06608857  0.4914182  -0.14998248  0.69436042  0.52943375\n",
            "  -0.13516997 -0.21876258 -0.17908605 -0.08961086 -0.3073768  -0.88007675\n",
            "   0.16220118 -0.56113055  0.3206939   0.26106948 -0.02225568  0.04460752]\n",
            " [-1.99656197  1.16068593 -0.69350046 -0.81157783  1.16946849  0.26823129\n",
            "  -0.36457179  1.35145359  0.63977564  0.20737273 -1.37867535  0.19069961\n",
            "   0.61182971  0.06613662  0.72069985 -0.17311389  2.56290618 -3.29823537\n",
            "   1.30686788 -0.14478999 -2.77856085  0.68097497  0.3376317   1.06335827\n",
            "   1.45631975 -1.13809214 -0.62853672 -0.28844675 -0.13713686 -0.18102083]\n",
            " [-1.99656197  0.14053425 -0.4933249  -0.11216942  1.18251645 -0.60972664\n",
            "  -0.00746888  0.93614983  0.19207064  0.3160176  -1.26250317 -0.05046795\n",
            "  -0.22189161  0.17837099  0.5101687  -0.30036049 -0.68983741 -1.20929599\n",
            "  -0.80544464  2.34530452 -1.51420492 -0.26985523 -0.1474433   0.00726691\n",
            "  -0.30477655 -1.94102714  1.24190371 -0.46021734  0.15539621  0.18618859]\n",
            " [-1.99654091 -0.07340334 -0.59132976  0.53154105  1.02141168  0.2846554\n",
            "  -0.29501544  0.07199858  0.47930228 -0.22651023  0.74432629  0.69162503\n",
            "  -0.80614659  0.53862665  1.35224435 -1.16803351  0.19132347 -0.51520512\n",
            "  -0.27908079 -0.045569    0.9870373   0.52993879 -0.01283922  1.10001127\n",
            "  -0.2201234   0.23325009 -0.39520164  1.0416113   0.5436198   0.65181592]]\n"
          ]
        }
      ]
    },
    {
      "cell_type": "markdown",
      "source": [
        "## 5. Aufbau des GANs: Generator und Diskriminator\n",
        "\n",
        "Das GAN besteht aus zwei Teilen:\n",
        "- Der **Generator** erzeugt synthetische Daten, die echten Transaktionen ähneln sollen.\n",
        "- Der **Diskriminator** bewertet die Eingabedaten und versucht zu unterscheiden, ob sie echt oder vom Generator erzeugt wurden.\n"
      ],
      "metadata": {
        "id": "nkihx4Ec627Z"
      }
    },
    {
      "cell_type": "code",
      "source": [
        "# Generator model definition\n",
        "class Generator(nn.Module):\n",
        "    def __init__(self, input_dim, output_dim):\n",
        "        super(Generator, self).__init__()\n",
        "        self.model = nn.Sequential(\n",
        "            nn.Linear(input_dim, 128),\n",
        "            nn.ReLU(),\n",
        "            nn.Linear(128, output_dim),\n",
        "            nn.Tanh() # Output is in the range [-1, 1]\n",
        "        )\n",
        "\n",
        "    def forward(self, x):\n",
        "        return self.model(x)\n",
        "\n",
        "# Discriminator model definition\n",
        "class Discriminator(nn.Module):\n",
        "    def __init__(self, input_dim):\n",
        "        super(Discriminator, self).__init__()\n",
        "        self.model = nn.Sequential(\n",
        "            nn.Linear(input_dim, 128),\n",
        "            nn.LeakyReLU(0.2), # Leaky ReLU activation for better gradient flow\n",
        "            nn.Linear(128, 1),\n",
        "            nn.Sigmoid()  # Output is in the range [0, 1]\n",
        "        )\n",
        "\n",
        "    def forward(self, x):\n",
        "        return self.model(x)\n",
        "\n",
        "# Initialize the models\n",
        "input_dim = 100  # Latent space dimension for the generator (noise)\n",
        "output_dim = normalized_transactions.shape[1]  # Dimension of the transaction data\n",
        "generator = Generator(input_dim, output_dim)\n",
        "discriminator = Discriminator(output_dim)"
      ],
      "metadata": {
        "id": "8krdtJbGxSkS"
      },
      "execution_count": 65,
      "outputs": []
    },
    {
      "cell_type": "markdown",
      "source": [
        "## 6. Definition der Verlustfunktionen und Optimierer\n",
        "\n",
        "Die Verlustfunktionen steuern die Lernprozesse von Generator und Diskriminator. BCELoss (Binary Cross-Entropy Loss) wird verwendet, um die Wahrscheinlichkeiten zu bewerten, ob eine Transaktion echt oder gefälscht ist. Der Adam-Optimierer wird für das Gradienten-Update verwendet.\n"
      ],
      "metadata": {
        "id": "1Y6xttaT65wv"
      }
    },
    {
      "cell_type": "code",
      "source": [
        "# Define loss and optimization functions\n",
        "criterion = nn.BCELoss() # Binary Cross-Entropy Loss for both generator and discriminator\n",
        "optimizer_G = torch.optim.Adam(generator.parameters(), lr=0.00005)\n",
        "optimizer_D = torch.optim.Adam(discriminator.parameters(), lr=0.00005)"
      ],
      "metadata": {
        "id": "2qzTP-Ec66u-"
      },
      "execution_count": null,
      "outputs": []
    },
    {
      "cell_type": "markdown",
      "source": [
        "## 7. Training des GANs\n",
        "\n",
        "Das GAN wird über mehrere Epochen trainiert. Zuerst wird der Diskriminator trainiert, um zwischen echten und generierten Daten zu unterscheiden. Anschließend wird der Generator trainiert, um den Diskriminator zu täuschen, indem er bessere gefälschte Daten generiert.\n"
      ],
      "metadata": {
        "id": "m0di-G2m6-ys"
      }
    },
    {
      "cell_type": "code",
      "source": [
        "# Function to generate random noise\n",
        "def generate_noise(batch_size, input_dim):\n",
        "    return torch.randn(batch_size, input_dim)\n",
        "\n",
        "# Training des GANs\n",
        "num_epochs = 30000 # Set the number of epochs for training\n",
        "batch_size = 128 # Set the batch size for each training step\n",
        "\n",
        "# Lists to store loss values for both discriminator and generator\n",
        "d_losses = []\n",
        "g_losses = []\n",
        "\n",
        "for epoch in range(num_epochs):\n",
        "    # 1. Discriminator training: Train on both real and fake data\n",
        "    real_data = torch.tensor(normalized_transactions[np.random.randint(0, normalized_transactions.shape[0], batch_size)], dtype=torch.float)\n",
        "    fake_data = generator(generate_noise(batch_size, input_dim)).detach() # Generate fake data and detach to avoid backpropagation to generator\n",
        "\n",
        "    # Discriminator loss for real data\n",
        "    real_loss = criterion(discriminator(real_data), torch.ones(batch_size, 1)) # Real data labeled as 1\n",
        "    fake_loss = criterion(discriminator(fake_data), torch.zeros(batch_size, 1)) # Fake data labeled as 0\n",
        "    d_loss = real_loss + fake_loss\n",
        "\n",
        "    # Backpropagation for discriminator\n",
        "    optimizer_D.zero_grad()\n",
        "    d_loss.backward()\n",
        "    optimizer_D.step()\n",
        "\n",
        "    # 2. Generator training: Train to fool the discriminator\n",
        "    noise = generate_noise(batch_size, input_dim)\n",
        "    generated_data = generator(noise)\n",
        "\n",
        "    # Generator loss: Try to make the discriminator classify generated data as real (1)\n",
        "    g_loss = criterion(discriminator(generated_data), torch.ones(batch_size, 1))\n",
        "\n",
        "    # Backpropagation for generator\n",
        "    optimizer_G.zero_grad()\n",
        "    g_loss.backward()\n",
        "    optimizer_G.step()\n",
        "\n",
        "    # Append loss values to the lists\n",
        "    d_losses.append(d_loss.item())\n",
        "    g_losses.append(g_loss.item())\n",
        "\n",
        "    # Print progress every 500 epochs\n",
        "    if epoch % 500 == 0 or epoch == 29999:\n",
        "        print(f'Epoch [{epoch}/{num_epochs}] | D Loss: {d_loss.item()} | G Loss: {g_loss.item()}')"
      ],
      "metadata": {
        "colab": {
          "base_uri": "https://localhost:8080/"
        },
        "id": "seBvy7gBnYdM",
        "outputId": "65380766-132c-4469-cea0-1b61b08d9c90"
      },
      "execution_count": 66,
      "outputs": [
        {
          "output_type": "stream",
          "name": "stdout",
          "text": [
            "Epoch [0/30000] | D Loss: 1.3920226097106934 | G Loss: 0.6355958580970764\n",
            "Epoch [500/30000] | D Loss: 1.289509654045105 | G Loss: 0.6069989204406738\n",
            "Epoch [1000/30000] | D Loss: 1.2316555976867676 | G Loss: 0.6212378740310669\n",
            "Epoch [1500/30000] | D Loss: 1.2880018949508667 | G Loss: 0.5925658345222473\n",
            "Epoch [2000/30000] | D Loss: 1.218121886253357 | G Loss: 0.649676501750946\n",
            "Epoch [2500/30000] | D Loss: 1.167553186416626 | G Loss: 0.7036561369895935\n",
            "Epoch [3000/30000] | D Loss: 1.2301735877990723 | G Loss: 0.7069275975227356\n",
            "Epoch [3500/30000] | D Loss: 1.1036264896392822 | G Loss: 0.8965789079666138\n",
            "Epoch [4000/30000] | D Loss: 1.2489417791366577 | G Loss: 0.6845990419387817\n",
            "Epoch [4500/30000] | D Loss: 1.0973484516143799 | G Loss: 0.8241296410560608\n",
            "Epoch [5000/30000] | D Loss: 1.2566989660263062 | G Loss: 0.6965122222900391\n",
            "Epoch [5500/30000] | D Loss: 1.0812581777572632 | G Loss: 0.8376065492630005\n",
            "Epoch [6000/30000] | D Loss: 1.045893907546997 | G Loss: 0.913982093334198\n",
            "Epoch [6500/30000] | D Loss: 1.1052478551864624 | G Loss: 0.8161098957061768\n",
            "Epoch [7000/30000] | D Loss: 0.9964558482170105 | G Loss: 1.0136953592300415\n",
            "Epoch [7500/30000] | D Loss: 0.9941527247428894 | G Loss: 1.0257525444030762\n",
            "Epoch [8000/30000] | D Loss: 1.2126563787460327 | G Loss: 0.7802815437316895\n",
            "Epoch [8500/30000] | D Loss: 0.927972674369812 | G Loss: 1.158347725868225\n",
            "Epoch [9000/30000] | D Loss: 1.111846685409546 | G Loss: 0.9023162126541138\n",
            "Epoch [9500/30000] | D Loss: 1.1442360877990723 | G Loss: 0.802244246006012\n",
            "Epoch [10000/30000] | D Loss: 0.9588148593902588 | G Loss: 1.0254085063934326\n",
            "Epoch [10500/30000] | D Loss: 1.2843884229660034 | G Loss: 0.7290856242179871\n",
            "Epoch [11000/30000] | D Loss: 1.1454277038574219 | G Loss: 0.9019087553024292\n",
            "Epoch [11500/30000] | D Loss: 1.1557672023773193 | G Loss: 0.9182382822036743\n",
            "Epoch [12000/30000] | D Loss: 0.9183688163757324 | G Loss: 1.1447372436523438\n",
            "Epoch [12500/30000] | D Loss: 1.2668626308441162 | G Loss: 0.7226352095603943\n",
            "Epoch [13000/30000] | D Loss: 0.9917026162147522 | G Loss: 1.038045883178711\n",
            "Epoch [13500/30000] | D Loss: 1.0849270820617676 | G Loss: 1.0165737867355347\n",
            "Epoch [14000/30000] | D Loss: 1.1005609035491943 | G Loss: 1.0746484994888306\n",
            "Epoch [14500/30000] | D Loss: 1.0979621410369873 | G Loss: 0.9184659719467163\n",
            "Epoch [15000/30000] | D Loss: 1.0155308246612549 | G Loss: 1.1601556539535522\n",
            "Epoch [15500/30000] | D Loss: 1.192563772201538 | G Loss: 0.8898821473121643\n",
            "Epoch [16000/30000] | D Loss: 1.320072054862976 | G Loss: 0.836898684501648\n",
            "Epoch [16500/30000] | D Loss: 1.074776530265808 | G Loss: 1.1005626916885376\n",
            "Epoch [17000/30000] | D Loss: 1.124634861946106 | G Loss: 0.9409632682800293\n",
            "Epoch [17500/30000] | D Loss: 1.1694023609161377 | G Loss: 0.9134479761123657\n",
            "Epoch [18000/30000] | D Loss: 1.0816407203674316 | G Loss: 0.9410598874092102\n",
            "Epoch [18500/30000] | D Loss: 1.1102643013000488 | G Loss: 0.9885560870170593\n",
            "Epoch [19000/30000] | D Loss: 1.0120023488998413 | G Loss: 0.9687349200248718\n",
            "Epoch [19500/30000] | D Loss: 1.071494221687317 | G Loss: 1.0119214057922363\n",
            "Epoch [20000/30000] | D Loss: 1.1528398990631104 | G Loss: 0.9240619540214539\n",
            "Epoch [20500/30000] | D Loss: 1.1533300876617432 | G Loss: 0.9704367518424988\n",
            "Epoch [21000/30000] | D Loss: 0.9577332735061646 | G Loss: 1.1318514347076416\n",
            "Epoch [21500/30000] | D Loss: 1.2312877178192139 | G Loss: 0.8830406665802002\n",
            "Epoch [22000/30000] | D Loss: 1.128311276435852 | G Loss: 0.9501657485961914\n",
            "Epoch [22500/30000] | D Loss: 1.0769824981689453 | G Loss: 1.015445351600647\n",
            "Epoch [23000/30000] | D Loss: 1.1350016593933105 | G Loss: 0.9506464004516602\n",
            "Epoch [23500/30000] | D Loss: 1.1264530420303345 | G Loss: 0.9134131669998169\n",
            "Epoch [24000/30000] | D Loss: 1.1322522163391113 | G Loss: 0.9033226370811462\n",
            "Epoch [24500/30000] | D Loss: 1.0602036714553833 | G Loss: 1.0195523500442505\n",
            "Epoch [25000/30000] | D Loss: 1.280452013015747 | G Loss: 0.8440701961517334\n",
            "Epoch [25500/30000] | D Loss: 1.0323216915130615 | G Loss: 0.9710902571678162\n",
            "Epoch [26000/30000] | D Loss: 1.2108216285705566 | G Loss: 0.8828991055488586\n",
            "Epoch [26500/30000] | D Loss: 1.0703260898590088 | G Loss: 1.0213994979858398\n",
            "Epoch [27000/30000] | D Loss: 1.100797414779663 | G Loss: 0.9394608736038208\n",
            "Epoch [27500/30000] | D Loss: 1.0444469451904297 | G Loss: 1.040571689605713\n",
            "Epoch [28000/30000] | D Loss: 1.0048189163208008 | G Loss: 0.9597486853599548\n",
            "Epoch [28500/30000] | D Loss: 1.0510926246643066 | G Loss: 0.9529618620872498\n",
            "Epoch [29000/30000] | D Loss: 0.999817430973053 | G Loss: 1.0040130615234375\n",
            "Epoch [29500/30000] | D Loss: 1.0663371086120605 | G Loss: 0.972805380821228\n",
            "Epoch [29999/30000] | D Loss: 0.9930410981178284 | G Loss: 1.0254888534545898\n"
          ]
        }
      ]
    },
    {
      "cell_type": "markdown",
      "source": [
        "Die Performance dieses Modells mit 30.000 Epochen ist sehr stabil. Der Generator lernt kontinuierlich, bessere Daten zu erzeugen, und der Diskriminator hat eine gute Fähigkeit, diese zu unterscheiden. Die Verluste zeigen keine extremen Schwankungen, was darauf hinweist, dass das Training gut gesteuert wurde."
      ],
      "metadata": {
        "id": "QodOMmqMyZeu"
      }
    },
    {
      "cell_type": "markdown",
      "source": [
        "## 8. Visualisierung der Verluste\n",
        "\n",
        "Die Verluste des Diskriminators und Generators werden über die Epochen hinweg aufgezeichnet und visualisiert, um den Fortschritt des Trainings zu verfolgen.\n"
      ],
      "metadata": {
        "id": "acFqp_jI7DYK"
      }
    },
    {
      "cell_type": "code",
      "source": [
        "# Plot discriminator and generator losses\n",
        "plt.figure(figsize=(10, 5))\n",
        "plt.plot(d_losses, label=\"Discriminator Loss\")\n",
        "plt.plot(g_losses, label=\"Generator Loss\")\n",
        "plt.title(\"GAN Training Losses\")\n",
        "plt.xlabel(\"Epoch\")\n",
        "plt.ylabel(\"Loss\")\n",
        "plt.legend()\n",
        "plt.show()"
      ],
      "metadata": {
        "colab": {
          "base_uri": "https://localhost:8080/",
          "height": 487
        },
        "id": "JgCHSfvmrF9C",
        "outputId": "fd33cce9-a251-4da1-f886-c6234569bc13"
      },
      "execution_count": 67,
      "outputs": [
        {
          "output_type": "display_data",
          "data": {
            "text/plain": [
              "<Figure size 1000x500 with 1 Axes>"
            ],
            "image/png": "[encoded data removed]"
          },
          "metadata": {}
        }
      ]
    },
    {
      "cell_type": "markdown",
      "source": [
        "## 9. Generierung neuer Transaktionen\n",
        "\n",
        "Nach dem Training des GANs können wir synthetische Transaktionen generieren. Diese werden mit den echten Transaktionen verglichen, um Anomalien zu identifizieren.\n"
      ],
      "metadata": {
        "id": "VpmRQxRq7FAy"
      }
    },
    {
      "cell_type": "code",
      "source": [
        "# Generate new transactions\n",
        "generated_transactions = generator(generate_noise(normalized_transactions.shape[0], input_dim)).detach().numpy()\n",
        "\n",
        "# Compare real and generated transactions by calculating the absolute differences\n",
        "differences = np.mean(np.abs(normalized_transactions - generated_transactions), axis=1)\n",
        "\n",
        "# Set a threshold for anomalies (Top 5% as anomalies)\n",
        "threshold = np.percentile(differences, 95)  # Top 5% of differences are considered anomalies\n",
        "anomalies = differences > threshold\n",
        "\n",
        "# Print the number of detected anomalies\n",
        "print(f'Number of detected anomalies: {np.sum(anomalies)}')\n",
        "\n",
        "# Now, check which anomalies correspond to actual fraud (Class == 1)\n",
        "# We need to filter the rows in the original dataset where anomalies are detected and the 'Class' is 1\n",
        "actual_fraud_anomalies = df_labels[anomalies].values.flatten() == 1\n",
        "\n",
        "# Print the number of anomalies that correspond to actual fraud\n",
        "print(f'Number of detected anomalies that are actual fraud: {np.sum(actual_fraud_anomalies)}')"
      ],
      "metadata": {
        "colab": {
          "base_uri": "https://localhost:8080/"
        },
        "id": "5FfucIANmRMk",
        "outputId": "69db6143-0260-421d-a270-a93fac75fea3"
      },
      "execution_count": 76,
      "outputs": [
        {
          "output_type": "stream",
          "name": "stdout",
          "text": [
            "Number of detected anomalies: 14241\n",
            "Number of detected anomalies that are actual fraud: 411\n"
          ]
        }
      ]
    },
    {
      "cell_type": "markdown",
      "source": [
        "# Zusammenfassung\n",
        "\n",
        "In diesem Projekt haben wir ein Generative Adversarial Network (GAN) entwickelt, um Kreditkartenbetrug zu erkennen. Durch das Training des GANs haben wir synthetische Transaktionen erzeugt und Anomalien in den echten Transaktionen identifiziert. Diese Anomalien könnten auf potenziellen Betrug hinweisen. Der Einsatz von GANs zur Generierung von synthetischen Daten ermöglicht eine verbesserte Anomalieerkennung in unscharfen und unausgewogenen Datensätzen wie denen, die für die Betrugserkennung verwendet werden.\n"
      ],
      "metadata": {
        "id": "ya6dDcu27MCI"
      }
    }
  ]
}